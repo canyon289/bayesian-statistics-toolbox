{
 "cells": [
  {
   "cell_type": "markdown",
   "id": "dd697f47-936e-4f8f-ab40-2d62e53a667b",
   "metadata": {},
   "source": [
    "<div class=\"alert alert-block alert-info\">\n",
    "<b>Note:</b> Use blue boxes (alert-info) for tips and notes.</div>\n"
   ]
  },
  {
   "cell_type": "code",
   "execution_count": 1,
   "id": "f6f05745-9446-4239-b050-d629e234a009",
   "metadata": {},
   "outputs": [
    {
     "name": "stdout",
     "output_type": "stream",
     "text": [
      "Running on PyMC v4.3.0\n"
     ]
    }
   ],
   "source": [
    "import arviz as az\n",
    "import matplotlib.pyplot as plt\n",
    "import numpy as np\n",
    "import pandas as pd\n",
    "import pymc as pm\n",
    "import seaborn as sns\n",
    "import bst.bayesian_stats as bst\n",
    "\n",
    "print(f\"Running on PyMC v{pm.__version__}\")"
   ]
  },
  {
   "cell_type": "code",
   "execution_count": 5,
   "id": "1d95d9e8-a1d1-475a-813a-2ace6910b87d",
   "metadata": {},
   "outputs": [],
   "source": [
    "%config InlineBackend.figure_format = 'retina'\n",
    "az.style.use(\"arviz-darkgrid\")\n",
    "az.rcParams[\"stats.hdi_prob\"] = 0.95\n",
    "az.rcParams[\"plot.density_kind\"] = \"hist\"\n",
    "rng = np.random.default_rng(seed=42)\n"
   ]
  },
  {
   "cell_type": "markdown",
   "id": "29d0a394-7076-4ca1-805e-f4048f82db89",
   "metadata": {},
   "source": [
    "```python\n",
    "print(\"Hello world!\")\n",
    "```"
   ]
  },
  {
   "cell_type": "markdown",
   "id": "42a6a357-0dfb-4c9a-8cea-bb20757c202a",
   "metadata": {},
   "source": [
    "> What does this do?"
   ]
  },
  {
   "cell_type": "code",
   "execution_count": null,
   "id": "6b33b6de-18fb-4b7d-8981-279a51be04e8",
   "metadata": {},
   "outputs": [],
   "source": [
    "# Using data from pymc3 port of Kruschke's BEST model (see: \n",
    "# https://www.pymc.io/projects/examples/en/latest/case_studies/BEST.html)\n",
    "drug = (101,100,102,104,102,97,105,105,98,101,100,123,105,103,100,95,102,106,\n",
    "        109,102,82,102,100,102,102,101,102,102,103,103,97,97,103,101,97,104,\n",
    "        96,103,124,101,101,100,101,101,104,100,101)\n",
    "placebo = (99,101,100,101,102,100,97,101,104,101,102,102,100,105,88,101,100,\n",
    "           104,100,100,100,101,102,103,97,101,101,100,101,99,101,100,100,\n",
    "           101,100,99,101,100,102,99,100,99)\n",
    "\n",
    "y1 = np.array(drug)\n",
    "y2 = np.array(placebo)\n",
    "y = pd.DataFrame(\n",
    "    dict(value=np.r_[y1, y2], group=np.r_[[\"drug\"] * len(drug), [\"placebo\"] * len(placebo)])\n",
    ")\n",
    "\n",
    "y.hist(\"value\", by=\"group\", figsize=(12, 4));"
   ]
  },
  {
   "cell_type": "code",
   "execution_count": null,
   "id": "e7a60aff-6827-4c3d-96d2-67c5bbe4979a",
   "metadata": {},
   "outputs": [],
   "source": [
    "# Call your Bayesian function from the toolbox\n",
    "# model, idata = bst.BEST(y[\"value\"], y[\"group\"], 2000)\n",
    "model, idata = bst.BEST_copy(y[\"value\"], y[\"group\"], 2000)\n"
   ]
  },
  {
   "cell_type": "code",
   "execution_count": null,
   "id": "e9f3054f-cd42-4970-884b-13af8232d5ae",
   "metadata": {},
   "outputs": [],
   "source": [
    "# Print out a summary of results\n",
    "az.summary(idata)"
   ]
  },
  {
   "cell_type": "code",
   "execution_count": null,
   "id": "192ad06a-4f70-4052-bc06-2a3013d2b561",
   "metadata": {},
   "outputs": [],
   "source": [
    "pm.model_to_graphviz(model)"
   ]
  },
  {
   "cell_type": "code",
   "execution_count": null,
   "id": "6cafb5f6-0c84-4305-a7bd-6496f45ef4c2",
   "metadata": {},
   "outputs": [],
   "source": [
    "# Plot posterior\n",
    "# az.plot_posterior(\n",
    "#     idata,\n",
    "#     var_names=[\"group1_mean\", \"group2_mean\", \"group1_std\", \"group2_std\", \"nu\", \"nu_log10\"],\n",
    "#     bins=50,\n",
    "#     textsize=20\n",
    "# );\n",
    "az.plot_posterior(\n",
    "    idata,\n",
    "    var_names=[\"group_mean\", \"group_std\",  \"nu\", \"nu_log10\"],\n",
    "    bins=50,\n",
    "    textsize=20\n",
    ");"
   ]
  },
  {
   "cell_type": "code",
   "execution_count": null,
   "id": "572528ec-6c31-4591-933c-051d353e7baa",
   "metadata": {},
   "outputs": [],
   "source": [
    "# idata_posterior = idata.posterior\n"
   ]
  },
  {
   "cell_type": "code",
   "execution_count": null,
   "id": "6bc38a71-5d26-47ec-922c-4aa4ab9e356e",
   "metadata": {},
   "outputs": [],
   "source": [
    "# Plot posterior\n",
    "az.plot_posterior(\n",
    "    idata,\n",
    "    var_names=[\"difference of means\", \"difference of stds\", \"effect size\"],\n",
    "    ref_val=0,\n",
    "    bins=50,\n",
    "    textsize=20\n",
    ");"
   ]
  },
  {
   "cell_type": "code",
   "execution_count": null,
   "id": "f4a62814-6866-4a48-b280-86508697fab6",
   "metadata": {},
   "outputs": [],
   "source": [
    "# Plot parameter estimates\n",
    "#az.plot_forest(idata, var_names=[\"group1_mean\", \"group2_mean\"], combined=True);\n",
    "az.plot_forest(idata, var_names=[\"group_mean\"], combined=True);"
   ]
  },
  {
   "cell_type": "code",
   "execution_count": null,
   "id": "3b9a338a-b644-4a99-9f99-41bb21975fb3",
   "metadata": {},
   "outputs": [],
   "source": [
    "# Plot parameter estimates\n",
    "#az.plot_forest(idata, var_names=[\"group1_std\", \"group2_std\", \"nu\"]);\n",
    "az.plot_forest(idata, var_names=[\"group_std\", \"nu\"]);"
   ]
  },
  {
   "cell_type": "code",
   "execution_count": null,
   "id": "2599e366-f5d8-464a-8e74-13f6369b2777",
   "metadata": {},
   "outputs": [],
   "source": [
    "# If you want to print the model so that you edit, simply add two question marks after the function name.\n",
    "bst.BEST_copy??"
   ]
  },
  {
   "cell_type": "code",
   "execution_count": null,
   "id": "460bc332-b397-417b-94f3-ea4014427306",
   "metadata": {},
   "outputs": [],
   "source": [
    "# Assess your MCMC chains.\n",
    "az.plot_trace(idata);"
   ]
  },
  {
   "cell_type": "code",
   "execution_count": null,
   "id": "d3f81895-4436-4847-85f8-263bd8777cb3",
   "metadata": {},
   "outputs": [],
   "source": [
    "# Posterior predictive check\n",
    "with model:\n",
    "    pm.sample_posterior_predictive(idata, extend_inferencedata=True)"
   ]
  },
  {
   "cell_type": "code",
   "execution_count": null,
   "id": "a7e2d3ff-3404-481c-b8c6-182c6fbbec7e",
   "metadata": {},
   "outputs": [],
   "source": [
    "idata"
   ]
  },
  {
   "cell_type": "code",
   "execution_count": null,
   "id": "c37a3143-d103-434a-8d27-8a6eecdea878",
   "metadata": {},
   "outputs": [],
   "source": [
    "az.plot_ppc(idata, num_pp_samples=50);"
   ]
  },
  {
   "cell_type": "code",
   "execution_count": null,
   "id": "33c66d71-fec1-42b9-b907-10f92fe6c3d3",
   "metadata": {},
   "outputs": [],
   "source": [
    "az.rcParams.keys()"
   ]
  },
  {
   "cell_type": "code",
   "execution_count": null,
   "id": "e3c90d27-cdd8-4cad-86cd-f62ef7defe7e",
   "metadata": {},
   "outputs": [],
   "source": [
    "plt.rcParams"
   ]
  },
  {
   "cell_type": "code",
   "execution_count": null,
   "id": "c0b6f671-0a28-4bdf-a617-aac4b19de759",
   "metadata": {},
   "outputs": [],
   "source": []
  }
 ],
 "metadata": {
  "kernelspec": {
   "display_name": "bayes_toolbox",
   "language": "python",
   "name": "bayes_toolbox"
  },
  "language_info": {
   "codemirror_mode": {
    "name": "ipython",
    "version": 3
   },
   "file_extension": ".py",
   "mimetype": "text/x-python",
   "name": "python",
   "nbconvert_exporter": "python",
   "pygments_lexer": "ipython3",
   "version": "3.11.0"
  }
 },
 "nbformat": 4,
 "nbformat_minor": 5
}
