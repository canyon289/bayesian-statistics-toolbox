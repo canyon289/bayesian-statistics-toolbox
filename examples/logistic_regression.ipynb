{
 "cells": [
  {
   "cell_type": "markdown",
   "id": "20a2306e-627f-4a69-a7c7-f1ba47eb57f8",
   "metadata": {},
   "source": [
    "<div class=\"alert alert-block alert-info\">\n",
    "<b>Note:</b> The goal of this notebook is to show you how to work with the Bayesian Statistics Toolbox (BST) when performing an analysis that involves comparing the effect of multiple nominal predictors on a metric outcome (think two-way and mixed-model ANOVAs) that may be normally or non-normally distributed (the \"robust\" version). These models utilize multi-level (hierarchical) modeling, one of the great strengths of Bayesian modeling. This is an adaptation of Jordi Warmenhoven's PyMC3 port of Chapter 20 of John Kruschke's textbook \"Doing Bayesian Data Analysis: A Tutorial with R, JAGS, and Stan\" (https://github.com/JWarmenhoven/DBDA-python). Please note that the code has been updated to make use of PyMC4 and that this does not (yet) include all of the examples from the original. </div>"
   ]
  },
  {
   "cell_type": "code",
   "execution_count": 1,
   "id": "e47b3b30-49d3-4cce-9edd-25a06c076f34",
   "metadata": {},
   "outputs": [
    {
     "name": "stdout",
     "output_type": "stream",
     "text": [
      "Running on PyMC v4.3.0\n"
     ]
    }
   ],
   "source": [
    "import arviz as az\n",
    "import matplotlib.pyplot as plt\n",
    "import numpy as np\n",
    "import numpy.ma as ma\n",
    "import pandas as pd\n",
    "import pymc as pm\n",
    "import seaborn as sns\n",
    "import xarray as xr\n",
    "import aesara.tensor as at\n",
    "\n",
    "# Import BST\n",
    "import src.bayesian_stats as bst\n",
    "\n",
    "from IPython.display import Image\n",
    "\n",
    "print(f\"Running on PyMC v{pm.__version__}\")"
   ]
  },
  {
   "cell_type": "code",
   "execution_count": 2,
   "id": "46730efd-34af-4e05-81aa-5a6035034ef5",
   "metadata": {},
   "outputs": [],
   "source": [
    "%config InlineBackend.figure_format = 'retina'\n",
    "az.style.use(\"arviz-darkgrid\")\n",
    "az.rcParams[\"stats.hdi_prob\"] = 0.95"
   ]
  },
  {
   "cell_type": "code",
   "execution_count": null,
   "id": "592f4201-b213-4c5d-94cb-3ed15d965a05",
   "metadata": {},
   "outputs": [],
   "source": [
    "df = pd.read_csv('data/HtWtData110.csv')\n",
    "df.info()"
   ]
  },
  {
   "cell_type": "code",
   "execution_count": null,
   "id": "1ab0a9ff-fc2c-41cd-bb32-32bd991f5286",
   "metadata": {},
   "outputs": [],
   "source": [
    "X = df[[\"weight\", \"height\"]]\n",
    "y = df[\"male\"]\n",
    "\n",
    "zX, mu_X, sigma_X = bst.standardize(X)"
   ]
  },
  {
   "cell_type": "markdown",
   "id": "58c4846b-c105-4bac-adfb-0071db500867",
   "metadata": {},
   "source": [
    "### Kruschke-style graphical model "
   ]
  },
  {
   "cell_type": "code",
   "execution_count": null,
   "id": "4015202b-2bbe-4995-a84b-71a199eb3b0d",
   "metadata": {},
   "outputs": [],
   "source": [
    "Image('images/fig21_2.png')"
   ]
  },
  {
   "cell_type": "code",
   "execution_count": null,
   "id": "aa3d9004-b5f2-4f25-840f-8c57d9a28f33",
   "metadata": {},
   "outputs": [],
   "source": [
    "def bayesian_logistic_regression(X, y, n_draws=1000):\n",
    "    \n",
    "    # Standardize the predictor variable(s)\n",
    "    zX, mu_X, sigma_X = bst.standardize(X)\n",
    "    \n",
    "    with pm.Model(coords={\"predictors\": X.columns.values}) as model:\n",
    "        # Set  priors\n",
    "        zbeta0 = pm.Normal(\"zbeta0\", mu=0, sigma=2)\n",
    "        zbetaj = pm.Normal(\"zbetaj\", mu=0, sigma=2, dims=\"predictors\")\n",
    "        \n",
    "        p = pm.invlogit(zbeta0 + pm.math.dot(zX, zbetaj))\n",
    "        \n",
    "        # Define likelihood function\n",
    "        likelihood = pm.Bernoulli(\"likelihood\", p, observed=y)\n",
    "        \n",
    "        # Transform parameters to original scale\n",
    "        beta0 = pm.Deterministic(\"beta0\", (zbeta0 - pm.math.sum(zbetaj * mu_X / sigma_X)))\n",
    "        betaj = pm.Deterministic(\"betaj\", zbetaj / sigma_X, dims=\"predictors\")                         \n",
    "        \n",
    "        # Sample from the posterior\n",
    "        idata = pm.sample(draws=n_draws)\n",
    "        \n",
    "        return model, idata"
   ]
  },
  {
   "cell_type": "code",
   "execution_count": null,
   "id": "278ca5bc-8da5-4e29-ae7b-b9ef1077caac",
   "metadata": {},
   "outputs": [],
   "source": [
    "# Fit your Bayesian model using BST\n",
    "model, idata = bayesian_logistic_regression(X, y, n_draws=3000)"
   ]
  },
  {
   "cell_type": "code",
   "execution_count": null,
   "id": "de5d5f49-90f1-480b-912a-79653d8d25db",
   "metadata": {},
   "outputs": [],
   "source": [
    "az.plot_trace(idata);"
   ]
  },
  {
   "cell_type": "code",
   "execution_count": null,
   "id": "c8be7b18-561b-46ea-951c-3cdf8e8546e2",
   "metadata": {},
   "outputs": [],
   "source": [
    "idata"
   ]
  },
  {
   "cell_type": "code",
   "execution_count": null,
   "id": "601efc5d-c15d-4c8c-9994-24a2cd32c2f3",
   "metadata": {},
   "outputs": [],
   "source": [
    "az.plot_posterior(idata, kind=\"hist\", bins=50, point_estimate=\"mode\", round_to=3, coords={\"predictors\": [\"weight\", \"height\"]});"
   ]
  },
  {
   "cell_type": "markdown",
   "id": "55beda0a-5e74-4960-b4ff-01eefa79166b",
   "metadata": {},
   "source": [
    "Next steps include chimpanzee example from Ch. 11 of Statistical Rethinking (2nd ed.), where there is a separate intercept parameter for each participant and also a nominal predictor, and extending the example to include a metric predictor (think proprioception problem). "
   ]
  },
  {
   "cell_type": "markdown",
   "id": "c2b2cbf3-d66c-42fc-a89f-b7cf4ea2f4ed",
   "metadata": {},
   "source": [
    "#### Code 11.1"
   ]
  },
  {
   "cell_type": "code",
   "execution_count": 3,
   "id": "024f23dd-657e-4572-8254-d757cd37064d",
   "metadata": {},
   "outputs": [
    {
     "data": {
      "text/html": [
       "<div>\n",
       "<style scoped>\n",
       "    .dataframe tbody tr th:only-of-type {\n",
       "        vertical-align: middle;\n",
       "    }\n",
       "\n",
       "    .dataframe tbody tr th {\n",
       "        vertical-align: top;\n",
       "    }\n",
       "\n",
       "    .dataframe thead th {\n",
       "        text-align: right;\n",
       "    }\n",
       "</style>\n",
       "<table border=\"1\" class=\"dataframe\">\n",
       "  <thead>\n",
       "    <tr style=\"text-align: right;\">\n",
       "      <th></th>\n",
       "      <th>actor</th>\n",
       "      <th>recipient</th>\n",
       "      <th>condition</th>\n",
       "      <th>block</th>\n",
       "      <th>trial</th>\n",
       "      <th>prosoc_left</th>\n",
       "      <th>chose_prosoc</th>\n",
       "      <th>pulled_left</th>\n",
       "    </tr>\n",
       "  </thead>\n",
       "  <tbody>\n",
       "    <tr>\n",
       "      <th>0</th>\n",
       "      <td>0</td>\n",
       "      <td>NaN</td>\n",
       "      <td>0</td>\n",
       "      <td>1</td>\n",
       "      <td>2</td>\n",
       "      <td>0</td>\n",
       "      <td>1</td>\n",
       "      <td>0</td>\n",
       "    </tr>\n",
       "    <tr>\n",
       "      <th>1</th>\n",
       "      <td>0</td>\n",
       "      <td>NaN</td>\n",
       "      <td>0</td>\n",
       "      <td>1</td>\n",
       "      <td>4</td>\n",
       "      <td>0</td>\n",
       "      <td>0</td>\n",
       "      <td>1</td>\n",
       "    </tr>\n",
       "    <tr>\n",
       "      <th>2</th>\n",
       "      <td>0</td>\n",
       "      <td>NaN</td>\n",
       "      <td>0</td>\n",
       "      <td>1</td>\n",
       "      <td>6</td>\n",
       "      <td>1</td>\n",
       "      <td>0</td>\n",
       "      <td>0</td>\n",
       "    </tr>\n",
       "    <tr>\n",
       "      <th>3</th>\n",
       "      <td>0</td>\n",
       "      <td>NaN</td>\n",
       "      <td>0</td>\n",
       "      <td>1</td>\n",
       "      <td>8</td>\n",
       "      <td>0</td>\n",
       "      <td>1</td>\n",
       "      <td>0</td>\n",
       "    </tr>\n",
       "    <tr>\n",
       "      <th>4</th>\n",
       "      <td>0</td>\n",
       "      <td>NaN</td>\n",
       "      <td>0</td>\n",
       "      <td>1</td>\n",
       "      <td>10</td>\n",
       "      <td>1</td>\n",
       "      <td>1</td>\n",
       "      <td>1</td>\n",
       "    </tr>\n",
       "    <tr>\n",
       "      <th>...</th>\n",
       "      <td>...</td>\n",
       "      <td>...</td>\n",
       "      <td>...</td>\n",
       "      <td>...</td>\n",
       "      <td>...</td>\n",
       "      <td>...</td>\n",
       "      <td>...</td>\n",
       "      <td>...</td>\n",
       "    </tr>\n",
       "    <tr>\n",
       "      <th>499</th>\n",
       "      <td>6</td>\n",
       "      <td>4.0</td>\n",
       "      <td>1</td>\n",
       "      <td>6</td>\n",
       "      <td>64</td>\n",
       "      <td>1</td>\n",
       "      <td>1</td>\n",
       "      <td>1</td>\n",
       "    </tr>\n",
       "    <tr>\n",
       "      <th>500</th>\n",
       "      <td>6</td>\n",
       "      <td>6.0</td>\n",
       "      <td>1</td>\n",
       "      <td>6</td>\n",
       "      <td>66</td>\n",
       "      <td>1</td>\n",
       "      <td>1</td>\n",
       "      <td>1</td>\n",
       "    </tr>\n",
       "    <tr>\n",
       "      <th>501</th>\n",
       "      <td>6</td>\n",
       "      <td>3.0</td>\n",
       "      <td>1</td>\n",
       "      <td>6</td>\n",
       "      <td>68</td>\n",
       "      <td>0</td>\n",
       "      <td>0</td>\n",
       "      <td>1</td>\n",
       "    </tr>\n",
       "    <tr>\n",
       "      <th>502</th>\n",
       "      <td>6</td>\n",
       "      <td>7.0</td>\n",
       "      <td>1</td>\n",
       "      <td>6</td>\n",
       "      <td>70</td>\n",
       "      <td>0</td>\n",
       "      <td>0</td>\n",
       "      <td>1</td>\n",
       "    </tr>\n",
       "    <tr>\n",
       "      <th>503</th>\n",
       "      <td>6</td>\n",
       "      <td>2.0</td>\n",
       "      <td>1</td>\n",
       "      <td>6</td>\n",
       "      <td>72</td>\n",
       "      <td>0</td>\n",
       "      <td>0</td>\n",
       "      <td>1</td>\n",
       "    </tr>\n",
       "  </tbody>\n",
       "</table>\n",
       "<p>504 rows × 8 columns</p>\n",
       "</div>"
      ],
      "text/plain": [
       "     actor  recipient  condition  block  trial  prosoc_left  chose_prosoc  \\\n",
       "0        0        NaN          0      1      2            0             1   \n",
       "1        0        NaN          0      1      4            0             0   \n",
       "2        0        NaN          0      1      6            1             0   \n",
       "3        0        NaN          0      1      8            0             1   \n",
       "4        0        NaN          0      1     10            1             1   \n",
       "..     ...        ...        ...    ...    ...          ...           ...   \n",
       "499      6        4.0          1      6     64            1             1   \n",
       "500      6        6.0          1      6     66            1             1   \n",
       "501      6        3.0          1      6     68            0             0   \n",
       "502      6        7.0          1      6     70            0             0   \n",
       "503      6        2.0          1      6     72            0             0   \n",
       "\n",
       "     pulled_left  \n",
       "0              0  \n",
       "1              1  \n",
       "2              0  \n",
       "3              0  \n",
       "4              1  \n",
       "..           ...  \n",
       "499            1  \n",
       "500            1  \n",
       "501            1  \n",
       "502            1  \n",
       "503            1  \n",
       "\n",
       "[504 rows x 8 columns]"
      ]
     },
     "execution_count": 3,
     "metadata": {},
     "output_type": "execute_result"
    }
   ],
   "source": [
    "# These data are from Statistical Rethinking 2\n",
    "d = pd.read_csv(\"Data/chimpanzees.csv\", sep=\";\")\n",
    "# we change \"actor\" to zero-index\n",
    "d.actor = d.actor - 1\n",
    "d\n"
   ]
  },
  {
   "cell_type": "markdown",
   "id": "f37bdb80-3d6b-4671-8e1c-1aa8cda78560",
   "metadata": {},
   "source": [
    "#### Code 11.2"
   ]
  },
  {
   "cell_type": "code",
   "execution_count": 4,
   "id": "7eaecd99-2d27-47a1-8176-b785436388be",
   "metadata": {},
   "outputs": [
    {
     "data": {
      "text/html": [
       "<div>\n",
       "<style scoped>\n",
       "    .dataframe tbody tr th:only-of-type {\n",
       "        vertical-align: middle;\n",
       "    }\n",
       "\n",
       "    .dataframe tbody tr th {\n",
       "        vertical-align: top;\n",
       "    }\n",
       "\n",
       "    .dataframe thead th {\n",
       "        text-align: right;\n",
       "    }\n",
       "</style>\n",
       "<table border=\"1\" class=\"dataframe\">\n",
       "  <thead>\n",
       "    <tr style=\"text-align: right;\">\n",
       "      <th></th>\n",
       "      <th>actor</th>\n",
       "      <th>prosoc_left</th>\n",
       "      <th>condition</th>\n",
       "      <th>treatment</th>\n",
       "    </tr>\n",
       "  </thead>\n",
       "  <tbody>\n",
       "    <tr>\n",
       "      <th>0</th>\n",
       "      <td>0</td>\n",
       "      <td>0</td>\n",
       "      <td>0</td>\n",
       "      <td>0</td>\n",
       "    </tr>\n",
       "    <tr>\n",
       "      <th>1</th>\n",
       "      <td>0</td>\n",
       "      <td>0</td>\n",
       "      <td>0</td>\n",
       "      <td>0</td>\n",
       "    </tr>\n",
       "    <tr>\n",
       "      <th>2</th>\n",
       "      <td>0</td>\n",
       "      <td>1</td>\n",
       "      <td>0</td>\n",
       "      <td>1</td>\n",
       "    </tr>\n",
       "    <tr>\n",
       "      <th>3</th>\n",
       "      <td>0</td>\n",
       "      <td>0</td>\n",
       "      <td>0</td>\n",
       "      <td>0</td>\n",
       "    </tr>\n",
       "    <tr>\n",
       "      <th>4</th>\n",
       "      <td>0</td>\n",
       "      <td>1</td>\n",
       "      <td>0</td>\n",
       "      <td>1</td>\n",
       "    </tr>\n",
       "    <tr>\n",
       "      <th>...</th>\n",
       "      <td>...</td>\n",
       "      <td>...</td>\n",
       "      <td>...</td>\n",
       "      <td>...</td>\n",
       "    </tr>\n",
       "    <tr>\n",
       "      <th>499</th>\n",
       "      <td>6</td>\n",
       "      <td>1</td>\n",
       "      <td>1</td>\n",
       "      <td>3</td>\n",
       "    </tr>\n",
       "    <tr>\n",
       "      <th>500</th>\n",
       "      <td>6</td>\n",
       "      <td>1</td>\n",
       "      <td>1</td>\n",
       "      <td>3</td>\n",
       "    </tr>\n",
       "    <tr>\n",
       "      <th>501</th>\n",
       "      <td>6</td>\n",
       "      <td>0</td>\n",
       "      <td>1</td>\n",
       "      <td>2</td>\n",
       "    </tr>\n",
       "    <tr>\n",
       "      <th>502</th>\n",
       "      <td>6</td>\n",
       "      <td>0</td>\n",
       "      <td>1</td>\n",
       "      <td>2</td>\n",
       "    </tr>\n",
       "    <tr>\n",
       "      <th>503</th>\n",
       "      <td>6</td>\n",
       "      <td>0</td>\n",
       "      <td>1</td>\n",
       "      <td>2</td>\n",
       "    </tr>\n",
       "  </tbody>\n",
       "</table>\n",
       "<p>504 rows × 4 columns</p>\n",
       "</div>"
      ],
      "text/plain": [
       "     actor  prosoc_left  condition  treatment\n",
       "0        0            0          0          0\n",
       "1        0            0          0          0\n",
       "2        0            1          0          1\n",
       "3        0            0          0          0\n",
       "4        0            1          0          1\n",
       "..     ...          ...        ...        ...\n",
       "499      6            1          1          3\n",
       "500      6            1          1          3\n",
       "501      6            0          1          2\n",
       "502      6            0          1          2\n",
       "503      6            0          1          2\n",
       "\n",
       "[504 rows x 4 columns]"
      ]
     },
     "execution_count": 4,
     "metadata": {},
     "output_type": "execute_result"
    }
   ],
   "source": [
    "d[\"treatment\"] = d.prosoc_left + 2 * d.condition\n",
    "d[[\"actor\", \"prosoc_left\", \"condition\", \"treatment\"]]"
   ]
  },
  {
   "cell_type": "markdown",
   "id": "5cf0c98b-1a73-48bc-b949-b0a98a79e3b7",
   "metadata": {},
   "source": [
    "### Code 11.3"
   ]
  },
  {
   "cell_type": "code",
   "execution_count": 5,
   "id": "9dcef12a-7c98-4daf-9b8e-32718da2b009",
   "metadata": {},
   "outputs": [
    {
     "data": {
      "text/html": [
       "<div>\n",
       "<style scoped>\n",
       "    .dataframe tbody tr th:only-of-type {\n",
       "        vertical-align: middle;\n",
       "    }\n",
       "\n",
       "    .dataframe tbody tr th {\n",
       "        vertical-align: top;\n",
       "    }\n",
       "\n",
       "    .dataframe thead th {\n",
       "        text-align: right;\n",
       "    }\n",
       "</style>\n",
       "<table border=\"1\" class=\"dataframe\">\n",
       "  <thead>\n",
       "    <tr style=\"text-align: right;\">\n",
       "      <th></th>\n",
       "      <th>prosoc_left</th>\n",
       "      <th>condition</th>\n",
       "    </tr>\n",
       "    <tr>\n",
       "      <th>treatment</th>\n",
       "      <th></th>\n",
       "      <th></th>\n",
       "    </tr>\n",
       "  </thead>\n",
       "  <tbody>\n",
       "    <tr>\n",
       "      <th>0</th>\n",
       "      <td>0</td>\n",
       "      <td>0</td>\n",
       "    </tr>\n",
       "    <tr>\n",
       "      <th>1</th>\n",
       "      <td>1</td>\n",
       "      <td>0</td>\n",
       "    </tr>\n",
       "    <tr>\n",
       "      <th>2</th>\n",
       "      <td>0</td>\n",
       "      <td>1</td>\n",
       "    </tr>\n",
       "    <tr>\n",
       "      <th>3</th>\n",
       "      <td>1</td>\n",
       "      <td>1</td>\n",
       "    </tr>\n",
       "  </tbody>\n",
       "</table>\n",
       "</div>"
      ],
      "text/plain": [
       "           prosoc_left  condition\n",
       "treatment                        \n",
       "0                    0          0\n",
       "1                    1          0\n",
       "2                    0          1\n",
       "3                    1          1"
      ]
     },
     "execution_count": 5,
     "metadata": {},
     "output_type": "execute_result"
    }
   ],
   "source": [
    "d.groupby(\"treatment\").first()[[\"prosoc_left\", \"condition\"]]"
   ]
  },
  {
   "cell_type": "code",
   "execution_count": 7,
   "id": "676d022c-bf67-4f16-9a78-673e495d093d",
   "metadata": {},
   "outputs": [
    {
     "data": {
      "text/plain": [
       "array([0, 0, 0, 0, 0, 0, 0, 0, 0, 0, 0, 0, 0, 0, 0, 0, 0, 0, 0, 0, 0, 0,\n",
       "       0, 0, 0, 0, 0, 0, 0, 0, 0, 0, 0, 0, 0, 0, 0, 0, 0, 0, 0, 0, 0, 0,\n",
       "       0, 0, 0, 0, 0, 0, 0, 0, 0, 0, 0, 0, 0, 0, 0, 0, 0, 0, 0, 0, 0, 0,\n",
       "       0, 0, 0, 0, 0, 0, 1, 1, 1, 1, 1, 1, 1, 1, 1, 1, 1, 1, 1, 1, 1, 1,\n",
       "       1, 1, 1, 1, 1, 1, 1, 1, 1, 1, 1, 1, 1, 1, 1, 1, 1, 1, 1, 1, 1, 1,\n",
       "       1, 1, 1, 1, 1, 1, 1, 1, 1, 1, 1, 1, 1, 1, 1, 1, 1, 1, 1, 1, 1, 1,\n",
       "       1, 1, 1, 1, 1, 1, 1, 1, 1, 1, 1, 1, 2, 2, 2, 2, 2, 2, 2, 2, 2, 2,\n",
       "       2, 2, 2, 2, 2, 2, 2, 2, 2, 2, 2, 2, 2, 2, 2, 2, 2, 2, 2, 2, 2, 2,\n",
       "       2, 2, 2, 2, 2, 2, 2, 2, 2, 2, 2, 2, 2, 2, 2, 2, 2, 2, 2, 2, 2, 2,\n",
       "       2, 2, 2, 2, 2, 2, 2, 2, 2, 2, 2, 2, 2, 2, 2, 2, 2, 2, 3, 3, 3, 3,\n",
       "       3, 3, 3, 3, 3, 3, 3, 3, 3, 3, 3, 3, 3, 3, 3, 3, 3, 3, 3, 3, 3, 3,\n",
       "       3, 3, 3, 3, 3, 3, 3, 3, 3, 3, 3, 3, 3, 3, 3, 3, 3, 3, 3, 3, 3, 3,\n",
       "       3, 3, 3, 3, 3, 3, 3, 3, 3, 3, 3, 3, 3, 3, 3, 3, 3, 3, 3, 3, 3, 3,\n",
       "       3, 3, 4, 4, 4, 4, 4, 4, 4, 4, 4, 4, 4, 4, 4, 4, 4, 4, 4, 4, 4, 4,\n",
       "       4, 4, 4, 4, 4, 4, 4, 4, 4, 4, 4, 4, 4, 4, 4, 4, 4, 4, 4, 4, 4, 4,\n",
       "       4, 4, 4, 4, 4, 4, 4, 4, 4, 4, 4, 4, 4, 4, 4, 4, 4, 4, 4, 4, 4, 4,\n",
       "       4, 4, 4, 4, 4, 4, 4, 4, 5, 5, 5, 5, 5, 5, 5, 5, 5, 5, 5, 5, 5, 5,\n",
       "       5, 5, 5, 5, 5, 5, 5, 5, 5, 5, 5, 5, 5, 5, 5, 5, 5, 5, 5, 5, 5, 5,\n",
       "       5, 5, 5, 5, 5, 5, 5, 5, 5, 5, 5, 5, 5, 5, 5, 5, 5, 5, 5, 5, 5, 5,\n",
       "       5, 5, 5, 5, 5, 5, 5, 5, 5, 5, 5, 5, 5, 5, 6, 6, 6, 6, 6, 6, 6, 6,\n",
       "       6, 6, 6, 6, 6, 6, 6, 6, 6, 6, 6, 6, 6, 6, 6, 6, 6, 6, 6, 6, 6, 6,\n",
       "       6, 6, 6, 6, 6, 6, 6, 6, 6, 6, 6, 6, 6, 6, 6, 6, 6, 6, 6, 6, 6, 6,\n",
       "       6, 6, 6, 6, 6, 6, 6, 6, 6, 6, 6, 6, 6, 6, 6, 6, 6, 6, 6, 6])"
      ]
     },
     "execution_count": 7,
     "metadata": {},
     "output_type": "execute_result"
    }
   ],
   "source": [
    "actor_idx, actors = pd.factorize(d.actor)\n",
    "actor_idx"
   ]
  },
  {
   "cell_type": "code",
   "execution_count": 22,
   "id": "c2a6bfe8-df80-408d-a65e-14017cfe47ad",
   "metadata": {},
   "outputs": [],
   "source": [
    "def bayesian_logistic_regression_subjID(subj, X, y, n_draws=1000):\n",
    "    \n",
    "    subj_idx, subj_levels, n_subj = bst.parse_categorical(subj)\n",
    "    treatment_idx, treatment_levels, n_treatment = bst.parse_categorical(X)\n",
    "    \n",
    "    with pm.Model(coords={\"subj\": subj_levels, \"treatment\": treatment_levels}) as model:\n",
    "        # Set priors\n",
    "        a = pm.Normal(\"a\", 0.0, 1.5, dims=\"subj\")\n",
    "        b = pm.Normal(\"b\", 0.0, 0.5, dims=\"treatment\")\n",
    "\n",
    "        p = pm.Deterministic(\"p\", pm.math.invlogit(a[subj_idx] + b[treatment_idx]))\n",
    "        \n",
    "        # Define likelihood function (in this case, observations are 0 or 1)\n",
    "        likelihood = pm.Binomial(\"likelihood\", 1, p, observed=y)\n",
    "        \n",
    "        # Draw samples from the posterior\n",
    "        idata = pm.sample(draws=n_draws)\n",
    "        \n",
    "        return model, idata"
   ]
  },
  {
   "cell_type": "code",
   "execution_count": 11,
   "id": "66466300-a91b-47d9-a8d3-3c9b7e35c454",
   "metadata": {},
   "outputs": [
    {
     "name": "stderr",
     "output_type": "stream",
     "text": [
      "Auto-assigning NUTS sampler...\n",
      "Initializing NUTS using jitter+adapt_diag...\n",
      "Multiprocess sampling (4 chains in 4 jobs)\n",
      "NUTS: [a, b]\n"
     ]
    },
    {
     "data": {
      "text/html": [
       "\n",
       "<style>\n",
       "    /* Turns off some styling */\n",
       "    progress {\n",
       "        /* gets rid of default border in Firefox and Opera. */\n",
       "        border: none;\n",
       "        /* Needs to be in here for Safari polyfill so background images work as expected. */\n",
       "        background-size: auto;\n",
       "    }\n",
       "    progress:not([value]), progress:not([value])::-webkit-progress-bar {\n",
       "        background: repeating-linear-gradient(45deg, #7e7e7e, #7e7e7e 10px, #5c5c5c 10px, #5c5c5c 20px);\n",
       "    }\n",
       "    .progress-bar-interrupted, .progress-bar-interrupted::-webkit-progress-bar {\n",
       "        background: #F44336;\n",
       "    }\n",
       "</style>\n"
      ],
      "text/plain": [
       "<IPython.core.display.HTML object>"
      ]
     },
     "metadata": {},
     "output_type": "display_data"
    },
    {
     "data": {
      "text/html": [
       "\n",
       "    <div>\n",
       "      <progress value='8000' class='' max='8000' style='width:300px; height:20px; vertical-align: middle;'></progress>\n",
       "      100.00% [8000/8000 00:05&lt;00:00 Sampling 4 chains, 0 divergences]\n",
       "    </div>\n",
       "    "
      ],
      "text/plain": [
       "<IPython.core.display.HTML object>"
      ]
     },
     "metadata": {},
     "output_type": "display_data"
    },
    {
     "name": "stderr",
     "output_type": "stream",
     "text": [
      "Sampling 4 chains for 1_000 tune and 1_000 draw iterations (4_000 + 4_000 draws total) took 17 seconds.\n"
     ]
    }
   ],
   "source": [
    "model2, idata2 = bayesian_logistic_regression_subjID(d.actor, d.treatment, d.pulled_left)"
   ]
  },
  {
   "cell_type": "code",
   "execution_count": 12,
   "id": "234dfdc9-7f39-4cb1-94c3-728028f07648",
   "metadata": {},
   "outputs": [
    {
     "data": {
      "text/html": [
       "<div>\n",
       "<style scoped>\n",
       "    .dataframe tbody tr th:only-of-type {\n",
       "        vertical-align: middle;\n",
       "    }\n",
       "\n",
       "    .dataframe tbody tr th {\n",
       "        vertical-align: top;\n",
       "    }\n",
       "\n",
       "    .dataframe thead th {\n",
       "        text-align: right;\n",
       "    }\n",
       "</style>\n",
       "<table border=\"1\" class=\"dataframe\">\n",
       "  <thead>\n",
       "    <tr style=\"text-align: right;\">\n",
       "      <th></th>\n",
       "      <th>mean</th>\n",
       "      <th>sd</th>\n",
       "      <th>hdi_2.5%</th>\n",
       "      <th>hdi_97.5%</th>\n",
       "      <th>mcse_mean</th>\n",
       "      <th>mcse_sd</th>\n",
       "      <th>ess_bulk</th>\n",
       "      <th>ess_tail</th>\n",
       "      <th>r_hat</th>\n",
       "    </tr>\n",
       "  </thead>\n",
       "  <tbody>\n",
       "    <tr>\n",
       "      <th>a[0]</th>\n",
       "      <td>-0.45</td>\n",
       "      <td>0.33</td>\n",
       "      <td>-1.06</td>\n",
       "      <td>0.22</td>\n",
       "      <td>0.01</td>\n",
       "      <td>0.01</td>\n",
       "      <td>1873.75</td>\n",
       "      <td>2977.30</td>\n",
       "      <td>1.0</td>\n",
       "    </tr>\n",
       "    <tr>\n",
       "      <th>a[1]</th>\n",
       "      <td>3.90</td>\n",
       "      <td>0.74</td>\n",
       "      <td>2.64</td>\n",
       "      <td>5.49</td>\n",
       "      <td>0.01</td>\n",
       "      <td>0.01</td>\n",
       "      <td>3910.90</td>\n",
       "      <td>2547.34</td>\n",
       "      <td>1.0</td>\n",
       "    </tr>\n",
       "    <tr>\n",
       "      <th>a[2]</th>\n",
       "      <td>-0.74</td>\n",
       "      <td>0.34</td>\n",
       "      <td>-1.44</td>\n",
       "      <td>-0.11</td>\n",
       "      <td>0.01</td>\n",
       "      <td>0.01</td>\n",
       "      <td>2050.27</td>\n",
       "      <td>2725.23</td>\n",
       "      <td>1.0</td>\n",
       "    </tr>\n",
       "    <tr>\n",
       "      <th>a[3]</th>\n",
       "      <td>-0.75</td>\n",
       "      <td>0.34</td>\n",
       "      <td>-1.43</td>\n",
       "      <td>-0.09</td>\n",
       "      <td>0.01</td>\n",
       "      <td>0.01</td>\n",
       "      <td>2052.03</td>\n",
       "      <td>2612.79</td>\n",
       "      <td>1.0</td>\n",
       "    </tr>\n",
       "    <tr>\n",
       "      <th>a[4]</th>\n",
       "      <td>-0.45</td>\n",
       "      <td>0.32</td>\n",
       "      <td>-1.10</td>\n",
       "      <td>0.17</td>\n",
       "      <td>0.01</td>\n",
       "      <td>0.01</td>\n",
       "      <td>1802.92</td>\n",
       "      <td>2281.58</td>\n",
       "      <td>1.0</td>\n",
       "    </tr>\n",
       "    <tr>\n",
       "      <th>a[5]</th>\n",
       "      <td>0.48</td>\n",
       "      <td>0.33</td>\n",
       "      <td>-0.15</td>\n",
       "      <td>1.12</td>\n",
       "      <td>0.01</td>\n",
       "      <td>0.01</td>\n",
       "      <td>1938.76</td>\n",
       "      <td>2158.32</td>\n",
       "      <td>1.0</td>\n",
       "    </tr>\n",
       "    <tr>\n",
       "      <th>a[6]</th>\n",
       "      <td>1.96</td>\n",
       "      <td>0.42</td>\n",
       "      <td>1.09</td>\n",
       "      <td>2.77</td>\n",
       "      <td>0.01</td>\n",
       "      <td>0.01</td>\n",
       "      <td>2457.60</td>\n",
       "      <td>2500.06</td>\n",
       "      <td>1.0</td>\n",
       "    </tr>\n",
       "    <tr>\n",
       "      <th>b[0]</th>\n",
       "      <td>-0.04</td>\n",
       "      <td>0.28</td>\n",
       "      <td>-0.61</td>\n",
       "      <td>0.48</td>\n",
       "      <td>0.01</td>\n",
       "      <td>0.00</td>\n",
       "      <td>1725.89</td>\n",
       "      <td>2364.10</td>\n",
       "      <td>1.0</td>\n",
       "    </tr>\n",
       "    <tr>\n",
       "      <th>b[1]</th>\n",
       "      <td>0.48</td>\n",
       "      <td>0.28</td>\n",
       "      <td>-0.08</td>\n",
       "      <td>0.99</td>\n",
       "      <td>0.01</td>\n",
       "      <td>0.00</td>\n",
       "      <td>1728.95</td>\n",
       "      <td>2469.05</td>\n",
       "      <td>1.0</td>\n",
       "    </tr>\n",
       "    <tr>\n",
       "      <th>b[2]</th>\n",
       "      <td>-0.39</td>\n",
       "      <td>0.28</td>\n",
       "      <td>-0.98</td>\n",
       "      <td>0.13</td>\n",
       "      <td>0.01</td>\n",
       "      <td>0.00</td>\n",
       "      <td>1597.31</td>\n",
       "      <td>2277.50</td>\n",
       "      <td>1.0</td>\n",
       "    </tr>\n",
       "    <tr>\n",
       "      <th>b[3]</th>\n",
       "      <td>0.37</td>\n",
       "      <td>0.28</td>\n",
       "      <td>-0.16</td>\n",
       "      <td>0.91</td>\n",
       "      <td>0.01</td>\n",
       "      <td>0.00</td>\n",
       "      <td>1686.46</td>\n",
       "      <td>2522.12</td>\n",
       "      <td>1.0</td>\n",
       "    </tr>\n",
       "  </tbody>\n",
       "</table>\n",
       "</div>"
      ],
      "text/plain": [
       "      mean    sd  hdi_2.5%  hdi_97.5%  mcse_mean  mcse_sd  ess_bulk  ess_tail  \\\n",
       "a[0] -0.45  0.33     -1.06       0.22       0.01     0.01   1873.75   2977.30   \n",
       "a[1]  3.90  0.74      2.64       5.49       0.01     0.01   3910.90   2547.34   \n",
       "a[2] -0.74  0.34     -1.44      -0.11       0.01     0.01   2050.27   2725.23   \n",
       "a[3] -0.75  0.34     -1.43      -0.09       0.01     0.01   2052.03   2612.79   \n",
       "a[4] -0.45  0.32     -1.10       0.17       0.01     0.01   1802.92   2281.58   \n",
       "a[5]  0.48  0.33     -0.15       1.12       0.01     0.01   1938.76   2158.32   \n",
       "a[6]  1.96  0.42      1.09       2.77       0.01     0.01   2457.60   2500.06   \n",
       "b[0] -0.04  0.28     -0.61       0.48       0.01     0.00   1725.89   2364.10   \n",
       "b[1]  0.48  0.28     -0.08       0.99       0.01     0.00   1728.95   2469.05   \n",
       "b[2] -0.39  0.28     -0.98       0.13       0.01     0.00   1597.31   2277.50   \n",
       "b[3]  0.37  0.28     -0.16       0.91       0.01     0.00   1686.46   2522.12   \n",
       "\n",
       "      r_hat  \n",
       "a[0]    1.0  \n",
       "a[1]    1.0  \n",
       "a[2]    1.0  \n",
       "a[3]    1.0  \n",
       "a[4]    1.0  \n",
       "a[5]    1.0  \n",
       "a[6]    1.0  \n",
       "b[0]    1.0  \n",
       "b[1]    1.0  \n",
       "b[2]    1.0  \n",
       "b[3]    1.0  "
      ]
     },
     "execution_count": 12,
     "metadata": {},
     "output_type": "execute_result"
    }
   ],
   "source": [
    "az.summary(idata2, var_names=[\"a\", \"b\"], round_to=2)"
   ]
  },
  {
   "cell_type": "code",
   "execution_count": 19,
   "id": "e5cbbbac-32df-4e83-b04a-6f6def9492a8",
   "metadata": {},
   "outputs": [
    {
     "data": {
      "image/png": "[encoded data removed]",
      "text/plain": [
       "<Figure size 600x470 with 1 Axes>"
      ]
     },
     "metadata": {
      "image/png": {
       "height": 481,
       "width": 611
      }
     },
     "output_type": "display_data"
    }
   ],
   "source": [
    "# TODO: Figure out how to enter logistic as input argument for \"transform\"\n",
    "az.plot_forest(idata2, var_names=[\"a\"], combined=True);"
   ]
  },
  {
   "cell_type": "code",
   "execution_count": 21,
   "id": "51cee477-5f6c-45e4-9529-8d840d3260bc",
   "metadata": {},
   "outputs": [
    {
     "data": {
      "image/png": "[encoded data removed]",
      "text/plain": [
       "<Figure size 600x440 with 1 Axes>"
      ]
     },
     "metadata": {
      "image/png": {
       "height": 451,
       "width": 611
      }
     },
     "output_type": "display_data"
    }
   ],
   "source": [
    "ax = az.plot_forest(idata2, var_names=[\"b\"], combined=True)\n",
    "ax[0].set_yticklabels([\"L/P\", \"R/P\", \"L/N\", \"R/N\"]);"
   ]
  },
  {
   "cell_type": "code",
   "execution_count": null,
   "id": "7550f7ba-f0c8-48c9-a409-ba453a4c9519",
   "metadata": {},
   "outputs": [],
   "source": []
  }
 ],
 "metadata": {
  "kernelspec": {
   "display_name": "bayes_toolbox",
   "language": "python",
   "name": "bayes_toolbox"
  },
  "language_info": {
   "codemirror_mode": {
    "name": "ipython",
    "version": 3
   },
   "file_extension": ".py",
   "mimetype": "text/x-python",
   "name": "python",
   "nbconvert_exporter": "python",
   "pygments_lexer": "ipython3",
   "version": "3.11.0"
  }
 },
 "nbformat": 4,
 "nbformat_minor": 5
}
